{
 "cells": [
  {
   "cell_type": "markdown",
   "metadata": {},
   "source": [
    "# Financial Health Prediction Model Based on Personal Finance Records and Demographics"
   ]
  },
  {
   "cell_type": "markdown",
   "metadata": {},
   "source": [
    "### Overview"
   ]
  },
  {
   "cell_type": "markdown",
   "metadata": {},
   "source": [
    "#### Data Understanding"
   ]
  },
  {
   "cell_type": "markdown",
   "metadata": {},
   "source": [
    "**About Dataset:**  \n",
    "Dataset contains detailed financial and demographic data for 20,000 individuals in India, focusing on income, expenses, and potential savings across various categories. "
   ]
  },
  {
   "cell_type": "markdown",
   "metadata": {
    "vscode": {
     "languageId": "html"
    }
   },
   "source": [
    "<table>\n",
    "  <tr>\n",
    "    <td><b>Parameter</td>\n",
    "    <td><b>Description</td>\n",
    "  </tr>\n",
    "  <tr>\n",
    "    <td>Income</td>\n",
    "    <td>Monthly income in currency unit</td>\n",
    "  </tr>\n",
    "  <tr>\n",
    "    <td>Age</td>\n",
    "    <td>Age of the individual</td>\n",
    "  </tr>\n",
    "  <tr>\n",
    "    <td>Dependents</td>\n",
    "    <td>Number of dependents supported by the individual</td>\n",
    "  </tr>\n",
    "  <tr>\n",
    "    <td>Occupation</td>\n",
    "    <td>Type of employment or job role.</td>\n",
    "  </tr>\n",
    "  <tr>\n",
    "    <td>City_Tier</td>\n",
    "    <td>\n",
    "    <ul>\n",
    "    <li>Tier 1: Largest, most developed, and most densely populated cities.</li>\n",
    "    <li>Tier 2: Mid-sized cities</li>\n",
    "    <li>Tier 3: Small cities or towns with lower population densities and slower economic growth </li>\n",
    "    </ul>\n",
    "    </td>\n",
    "  </tr>\n",
    "  <tr>\n",
    "    <td>Rent<br>Loan_Repayment<br>Insurance<br>Groceries<br>Transport<br>Eating_Out<br>Entertainment<br>Utilities<br>Healthcare<br>Education<br>Miscellaneous</td>\n",
    "    <td>Monthly Expenses Records\n",
    "    <br>\n",
    "    <br>Miscellaneous: Generally refers to expenses that don’t fit neatly into other specific categories, including:\n",
    "    <ul>\n",
    "    <li><ins>Unexpected or Infrequent Purchases</ins>: Like a one-time purchase or small repairs.</li>\n",
    "    <li><ins>Personal Items or Discretionary Spending </ins>: Small items such as magazines, gifts, or occasional treats.</li>\n",
    "    <li><ins>Random Fees or Minor Charges</ins>: Small service fees or occasional bank charges.</li>\n",
    "    </ul>\n",
    "    </td>\n",
    "  </tr>\n",
    "  <tr>\n",
    "    <td>Desired_Saving_Percentage<br>Desired_Savings</td>\n",
    "    <td>Targets for monthly saving</td>\n",
    "  </tr>\n",
    "  <tr>\n",
    "    <td>Disposable_Income</td>\n",
    "    <td>Income remaining after all expenses are accounted for</td>\n",
    "  </tr>\n",
    "  <tr>\n",
    "    <td>Potential_Savings_Groceries<br>Potential_Savings_Transport<br>Potential_Savings_Eating_Out<br>Potential_Savings_Entertainment<br>Potential_Savings_Utilities<br>Potential_Savings_Healthcare<br>Potential_Savings_Education<br>Potential_Savings_Miscellaneous</td>\n",
    "    <td>Includes estimates of potential savings across different spending areas\n",
    "    <br>(These columns are not relevant to the project)\n",
    "    </td>\n",
    "  </tr>\n",
    "</table>"
   ]
  },
  {
   "cell_type": "markdown",
   "metadata": {},
   "source": [
    "#### Project Objectives"
   ]
  },
  {
   "cell_type": "markdown",
   "metadata": {},
   "source": [
    "**Background**:  \n",
    "Financial health is a term used to describe the state of one's personal monetary affairs."
   ]
  },
  {
   "cell_type": "markdown",
   "metadata": {},
   "source": [
    "**Approach**:\n",
    "- Calculating \"Finacial Point\" through Financial Scoring System\n",
    "    - Budget Adherence: Monthly expenses stays within income amount (1 point)\n",
    "    - Essential vs. Discreationary Spending: Ideally, no more than 30% of income should go toward discretionary expenses (`Entertainent`, `Eating_Out` and 35% of `Miscellaneous`). (1 point)  \n",
    "    - Saving Rate: (We assume that 65% of `Disposable_Income` value would be the Actual Saving amount)\n",
    "        - if the Actual Saving amount satisfied the `Desired_Saving` (0.5 point)\n",
    "        - if the Actual Saving amount is about 15%-20% of income (1 point)\n",
    "    - Debt Management: DTI Ratio (Debt-to-Income Ratio) below 36% of income (1 point)\n",
    "\n",
    "- Add a lable to determine personal financial health based on \"Financial Point\"\n",
    "    - (4 - 4,5]: Good Financial Health (2)\n",
    "    - (3 - 3.5]: Average Financial Health (1)\n",
    "    - <3: Vulnerable Financial Health (0)\n",
    "\n",
    "- Building model \n",
    "\n",
    "- Evaluating model\n",
    "    "
   ]
  },
  {
   "cell_type": "markdown",
   "metadata": {},
   "source": [
    "### Libraries "
   ]
  },
  {
   "cell_type": "code",
   "execution_count": 9,
   "metadata": {},
   "outputs": [],
   "source": [
    "import pandas as pd\n",
    "import matplotlib.pyplot as plt\n",
    "import numpy as np\n",
    "import seaborn as sns\n",
    "%matplotlib inline"
   ]
  },
  {
   "cell_type": "markdown",
   "metadata": {},
   "source": [
    "## 0. Loading Data\n",
    "- Reading data from csv file into DataFrame\n",
    "- Dropping irrelevant columns "
   ]
  },
  {
   "cell_type": "code",
   "execution_count": 135,
   "metadata": {},
   "outputs": [
    {
     "data": {
      "text/html": [
       "<div>\n",
       "<style scoped>\n",
       "    .dataframe tbody tr th:only-of-type {\n",
       "        vertical-align: middle;\n",
       "    }\n",
       "\n",
       "    .dataframe tbody tr th {\n",
       "        vertical-align: top;\n",
       "    }\n",
       "\n",
       "    .dataframe thead th {\n",
       "        text-align: right;\n",
       "    }\n",
       "</style>\n",
       "<table border=\"1\" class=\"dataframe\">\n",
       "  <thead>\n",
       "    <tr style=\"text-align: right;\">\n",
       "      <th></th>\n",
       "      <th>Income</th>\n",
       "      <th>Age</th>\n",
       "      <th>Dependents</th>\n",
       "      <th>Occupation</th>\n",
       "      <th>City_Tier</th>\n",
       "      <th>Rent</th>\n",
       "      <th>Loan_Repayment</th>\n",
       "      <th>Insurance</th>\n",
       "      <th>Groceries</th>\n",
       "      <th>Transport</th>\n",
       "      <th>...</th>\n",
       "      <th>Desired_Savings</th>\n",
       "      <th>Disposable_Income</th>\n",
       "      <th>Potential_Savings_Groceries</th>\n",
       "      <th>Potential_Savings_Transport</th>\n",
       "      <th>Potential_Savings_Eating_Out</th>\n",
       "      <th>Potential_Savings_Entertainment</th>\n",
       "      <th>Potential_Savings_Utilities</th>\n",
       "      <th>Potential_Savings_Healthcare</th>\n",
       "      <th>Potential_Savings_Education</th>\n",
       "      <th>Potential_Savings_Miscellaneous</th>\n",
       "    </tr>\n",
       "  </thead>\n",
       "  <tbody>\n",
       "    <tr>\n",
       "      <th>0</th>\n",
       "      <td>44637.249636</td>\n",
       "      <td>49</td>\n",
       "      <td>0</td>\n",
       "      <td>Self_Employed</td>\n",
       "      <td>Tier_1</td>\n",
       "      <td>13391.174891</td>\n",
       "      <td>0.000000</td>\n",
       "      <td>2206.490129</td>\n",
       "      <td>6658.768341</td>\n",
       "      <td>2636.970696</td>\n",
       "      <td>...</td>\n",
       "      <td>6200.537192</td>\n",
       "      <td>11265.627707</td>\n",
       "      <td>1685.696222</td>\n",
       "      <td>328.895281</td>\n",
       "      <td>465.769172</td>\n",
       "      <td>195.151320</td>\n",
       "      <td>678.292859</td>\n",
       "      <td>67.682471</td>\n",
       "      <td>0.000000</td>\n",
       "      <td>85.735517</td>\n",
       "    </tr>\n",
       "    <tr>\n",
       "      <th>1</th>\n",
       "      <td>26858.596592</td>\n",
       "      <td>34</td>\n",
       "      <td>2</td>\n",
       "      <td>Retired</td>\n",
       "      <td>Tier_2</td>\n",
       "      <td>5371.719318</td>\n",
       "      <td>0.000000</td>\n",
       "      <td>869.522617</td>\n",
       "      <td>2818.444460</td>\n",
       "      <td>1543.018778</td>\n",
       "      <td>...</td>\n",
       "      <td>1923.176434</td>\n",
       "      <td>9676.818733</td>\n",
       "      <td>540.306561</td>\n",
       "      <td>119.347139</td>\n",
       "      <td>141.866089</td>\n",
       "      <td>234.131168</td>\n",
       "      <td>286.668408</td>\n",
       "      <td>6.603212</td>\n",
       "      <td>56.306874</td>\n",
       "      <td>97.388606</td>\n",
       "    </tr>\n",
       "    <tr>\n",
       "      <th>2</th>\n",
       "      <td>50367.605084</td>\n",
       "      <td>35</td>\n",
       "      <td>1</td>\n",
       "      <td>Student</td>\n",
       "      <td>Tier_3</td>\n",
       "      <td>7555.140763</td>\n",
       "      <td>4612.103386</td>\n",
       "      <td>2201.800050</td>\n",
       "      <td>6313.222081</td>\n",
       "      <td>3221.396403</td>\n",
       "      <td>...</td>\n",
       "      <td>7050.360422</td>\n",
       "      <td>13891.450624</td>\n",
       "      <td>1466.073984</td>\n",
       "      <td>473.549752</td>\n",
       "      <td>410.857129</td>\n",
       "      <td>459.965256</td>\n",
       "      <td>488.383423</td>\n",
       "      <td>7.290892</td>\n",
       "      <td>106.653597</td>\n",
       "      <td>138.542422</td>\n",
       "    </tr>\n",
       "    <tr>\n",
       "      <th>3</th>\n",
       "      <td>101455.600247</td>\n",
       "      <td>21</td>\n",
       "      <td>0</td>\n",
       "      <td>Self_Employed</td>\n",
       "      <td>Tier_3</td>\n",
       "      <td>15218.340037</td>\n",
       "      <td>6809.441427</td>\n",
       "      <td>4889.418087</td>\n",
       "      <td>14690.149363</td>\n",
       "      <td>7106.130005</td>\n",
       "      <td>...</td>\n",
       "      <td>16694.965136</td>\n",
       "      <td>31617.953615</td>\n",
       "      <td>1875.932770</td>\n",
       "      <td>762.020789</td>\n",
       "      <td>1241.017448</td>\n",
       "      <td>320.190594</td>\n",
       "      <td>1389.815033</td>\n",
       "      <td>193.502754</td>\n",
       "      <td>0.000000</td>\n",
       "      <td>296.041183</td>\n",
       "    </tr>\n",
       "    <tr>\n",
       "      <th>4</th>\n",
       "      <td>24875.283548</td>\n",
       "      <td>52</td>\n",
       "      <td>4</td>\n",
       "      <td>Professional</td>\n",
       "      <td>Tier_2</td>\n",
       "      <td>4975.056710</td>\n",
       "      <td>3112.609398</td>\n",
       "      <td>635.907170</td>\n",
       "      <td>3034.329665</td>\n",
       "      <td>1276.155163</td>\n",
       "      <td>...</td>\n",
       "      <td>1874.099434</td>\n",
       "      <td>6265.700532</td>\n",
       "      <td>788.953124</td>\n",
       "      <td>68.160766</td>\n",
       "      <td>61.712505</td>\n",
       "      <td>187.173750</td>\n",
       "      <td>194.117130</td>\n",
       "      <td>47.294591</td>\n",
       "      <td>67.388120</td>\n",
       "      <td>96.557076</td>\n",
       "    </tr>\n",
       "  </tbody>\n",
       "</table>\n",
       "<p>5 rows × 27 columns</p>\n",
       "</div>"
      ],
      "text/plain": [
       "          Income  Age  Dependents     Occupation City_Tier          Rent  \\\n",
       "0   44637.249636   49           0  Self_Employed    Tier_1  13391.174891   \n",
       "1   26858.596592   34           2        Retired    Tier_2   5371.719318   \n",
       "2   50367.605084   35           1        Student    Tier_3   7555.140763   \n",
       "3  101455.600247   21           0  Self_Employed    Tier_3  15218.340037   \n",
       "4   24875.283548   52           4   Professional    Tier_2   4975.056710   \n",
       "\n",
       "   Loan_Repayment    Insurance     Groceries    Transport  ...  \\\n",
       "0        0.000000  2206.490129   6658.768341  2636.970696  ...   \n",
       "1        0.000000   869.522617   2818.444460  1543.018778  ...   \n",
       "2     4612.103386  2201.800050   6313.222081  3221.396403  ...   \n",
       "3     6809.441427  4889.418087  14690.149363  7106.130005  ...   \n",
       "4     3112.609398   635.907170   3034.329665  1276.155163  ...   \n",
       "\n",
       "   Desired_Savings  Disposable_Income  Potential_Savings_Groceries  \\\n",
       "0      6200.537192       11265.627707                  1685.696222   \n",
       "1      1923.176434        9676.818733                   540.306561   \n",
       "2      7050.360422       13891.450624                  1466.073984   \n",
       "3     16694.965136       31617.953615                  1875.932770   \n",
       "4      1874.099434        6265.700532                   788.953124   \n",
       "\n",
       "   Potential_Savings_Transport  Potential_Savings_Eating_Out  \\\n",
       "0                   328.895281                    465.769172   \n",
       "1                   119.347139                    141.866089   \n",
       "2                   473.549752                    410.857129   \n",
       "3                   762.020789                   1241.017448   \n",
       "4                    68.160766                     61.712505   \n",
       "\n",
       "   Potential_Savings_Entertainment  Potential_Savings_Utilities  \\\n",
       "0                       195.151320                   678.292859   \n",
       "1                       234.131168                   286.668408   \n",
       "2                       459.965256                   488.383423   \n",
       "3                       320.190594                  1389.815033   \n",
       "4                       187.173750                   194.117130   \n",
       "\n",
       "   Potential_Savings_Healthcare  Potential_Savings_Education  \\\n",
       "0                     67.682471                     0.000000   \n",
       "1                      6.603212                    56.306874   \n",
       "2                      7.290892                   106.653597   \n",
       "3                    193.502754                     0.000000   \n",
       "4                     47.294591                    67.388120   \n",
       "\n",
       "   Potential_Savings_Miscellaneous  \n",
       "0                        85.735517  \n",
       "1                        97.388606  \n",
       "2                       138.542422  \n",
       "3                       296.041183  \n",
       "4                        96.557076  \n",
       "\n",
       "[5 rows x 27 columns]"
      ]
     },
     "execution_count": 135,
     "metadata": {},
     "output_type": "execute_result"
    }
   ],
   "source": [
    "# Read data from csv file into DataFrame\n",
    "df = pd.read_csv('data.csv')\n",
    "\n",
    "df.head()"
   ]
  },
  {
   "cell_type": "code",
   "execution_count": 136,
   "metadata": {},
   "outputs": [
    {
     "name": "stdout",
     "output_type": "stream",
     "text": [
      "<class 'pandas.core.frame.DataFrame'>\n",
      "RangeIndex: 20000 entries, 0 to 19999\n",
      "Data columns (total 27 columns):\n",
      " #   Column                           Non-Null Count  Dtype  \n",
      "---  ------                           --------------  -----  \n",
      " 0   Income                           20000 non-null  float64\n",
      " 1   Age                              20000 non-null  int64  \n",
      " 2   Dependents                       20000 non-null  int64  \n",
      " 3   Occupation                       20000 non-null  object \n",
      " 4   City_Tier                        20000 non-null  object \n",
      " 5   Rent                             20000 non-null  float64\n",
      " 6   Loan_Repayment                   20000 non-null  float64\n",
      " 7   Insurance                        20000 non-null  float64\n",
      " 8   Groceries                        20000 non-null  float64\n",
      " 9   Transport                        20000 non-null  float64\n",
      " 10  Eating_Out                       20000 non-null  float64\n",
      " 11  Entertainment                    20000 non-null  float64\n",
      " 12  Utilities                        20000 non-null  float64\n",
      " 13  Healthcare                       20000 non-null  float64\n",
      " 14  Education                        20000 non-null  float64\n",
      " 15  Miscellaneous                    20000 non-null  float64\n",
      " 16  Desired_Savings_Percentage       20000 non-null  float64\n",
      " 17  Desired_Savings                  20000 non-null  float64\n",
      " 18  Disposable_Income                20000 non-null  float64\n",
      " 19  Potential_Savings_Groceries      20000 non-null  float64\n",
      " 20  Potential_Savings_Transport      20000 non-null  float64\n",
      " 21  Potential_Savings_Eating_Out     20000 non-null  float64\n",
      " 22  Potential_Savings_Entertainment  20000 non-null  float64\n",
      " 23  Potential_Savings_Utilities      20000 non-null  float64\n",
      " 24  Potential_Savings_Healthcare     20000 non-null  float64\n",
      " 25  Potential_Savings_Education      20000 non-null  float64\n",
      " 26  Potential_Savings_Miscellaneous  20000 non-null  float64\n",
      "dtypes: float64(23), int64(2), object(2)\n",
      "memory usage: 4.1+ MB\n"
     ]
    }
   ],
   "source": [
    "df.info()"
   ]
  },
  {
   "cell_type": "code",
   "execution_count": 137,
   "metadata": {},
   "outputs": [],
   "source": [
    "# Drop irrelevant columns\n",
    "df.drop(['Desired_Savings_Percentage', \n",
    "         'Potential_Savings_Groceries',\n",
    "         'Potential_Savings_Transport',\n",
    "         'Potential_Savings_Eating_Out',\n",
    "         'Potential_Savings_Entertainment',\n",
    "         'Potential_Savings_Utilities',\n",
    "         'Potential_Savings_Healthcare',\n",
    "         'Potential_Savings_Education',\n",
    "         'Potential_Savings_Miscellaneous'], axis=1, inplace=True)"
   ]
  },
  {
   "cell_type": "code",
   "execution_count": 138,
   "metadata": {},
   "outputs": [
    {
     "data": {
      "text/html": [
       "<div>\n",
       "<style scoped>\n",
       "    .dataframe tbody tr th:only-of-type {\n",
       "        vertical-align: middle;\n",
       "    }\n",
       "\n",
       "    .dataframe tbody tr th {\n",
       "        vertical-align: top;\n",
       "    }\n",
       "\n",
       "    .dataframe thead th {\n",
       "        text-align: right;\n",
       "    }\n",
       "</style>\n",
       "<table border=\"1\" class=\"dataframe\">\n",
       "  <thead>\n",
       "    <tr style=\"text-align: right;\">\n",
       "      <th></th>\n",
       "      <th>Income</th>\n",
       "      <th>Age</th>\n",
       "      <th>Dependents</th>\n",
       "      <th>Occupation</th>\n",
       "      <th>City_Tier</th>\n",
       "      <th>Rent</th>\n",
       "      <th>Loan_Repayment</th>\n",
       "      <th>Insurance</th>\n",
       "      <th>Groceries</th>\n",
       "      <th>Transport</th>\n",
       "      <th>Eating_Out</th>\n",
       "      <th>Entertainment</th>\n",
       "      <th>Utilities</th>\n",
       "      <th>Healthcare</th>\n",
       "      <th>Education</th>\n",
       "      <th>Miscellaneous</th>\n",
       "      <th>Desired_Savings</th>\n",
       "      <th>Disposable_Income</th>\n",
       "    </tr>\n",
       "  </thead>\n",
       "  <tbody>\n",
       "    <tr>\n",
       "      <th>0</th>\n",
       "      <td>44637.249636</td>\n",
       "      <td>49</td>\n",
       "      <td>0</td>\n",
       "      <td>Self_Employed</td>\n",
       "      <td>Tier_1</td>\n",
       "      <td>13391.174891</td>\n",
       "      <td>0.000000</td>\n",
       "      <td>2206.490129</td>\n",
       "      <td>6658.768341</td>\n",
       "      <td>2636.970696</td>\n",
       "      <td>1651.801726</td>\n",
       "      <td>1536.184255</td>\n",
       "      <td>2911.792231</td>\n",
       "      <td>1546.914539</td>\n",
       "      <td>0.000000</td>\n",
       "      <td>831.525120</td>\n",
       "      <td>6200.537192</td>\n",
       "      <td>11265.627707</td>\n",
       "    </tr>\n",
       "    <tr>\n",
       "      <th>1</th>\n",
       "      <td>26858.596592</td>\n",
       "      <td>34</td>\n",
       "      <td>2</td>\n",
       "      <td>Retired</td>\n",
       "      <td>Tier_2</td>\n",
       "      <td>5371.719318</td>\n",
       "      <td>0.000000</td>\n",
       "      <td>869.522617</td>\n",
       "      <td>2818.444460</td>\n",
       "      <td>1543.018778</td>\n",
       "      <td>649.378103</td>\n",
       "      <td>1050.241738</td>\n",
       "      <td>1626.143346</td>\n",
       "      <td>1137.351325</td>\n",
       "      <td>1551.723167</td>\n",
       "      <td>564.235007</td>\n",
       "      <td>1923.176434</td>\n",
       "      <td>9676.818733</td>\n",
       "    </tr>\n",
       "    <tr>\n",
       "      <th>2</th>\n",
       "      <td>50367.605084</td>\n",
       "      <td>35</td>\n",
       "      <td>1</td>\n",
       "      <td>Student</td>\n",
       "      <td>Tier_3</td>\n",
       "      <td>7555.140763</td>\n",
       "      <td>4612.103386</td>\n",
       "      <td>2201.800050</td>\n",
       "      <td>6313.222081</td>\n",
       "      <td>3221.396403</td>\n",
       "      <td>1513.814376</td>\n",
       "      <td>1723.306926</td>\n",
       "      <td>3368.457108</td>\n",
       "      <td>2178.515847</td>\n",
       "      <td>3160.026299</td>\n",
       "      <td>628.371220</td>\n",
       "      <td>7050.360422</td>\n",
       "      <td>13891.450624</td>\n",
       "    </tr>\n",
       "    <tr>\n",
       "      <th>3</th>\n",
       "      <td>101455.600247</td>\n",
       "      <td>21</td>\n",
       "      <td>0</td>\n",
       "      <td>Self_Employed</td>\n",
       "      <td>Tier_3</td>\n",
       "      <td>15218.340037</td>\n",
       "      <td>6809.441427</td>\n",
       "      <td>4889.418087</td>\n",
       "      <td>14690.149363</td>\n",
       "      <td>7106.130005</td>\n",
       "      <td>5040.249158</td>\n",
       "      <td>2858.194240</td>\n",
       "      <td>6128.550387</td>\n",
       "      <td>4571.118217</td>\n",
       "      <td>0.000000</td>\n",
       "      <td>2526.055712</td>\n",
       "      <td>16694.965136</td>\n",
       "      <td>31617.953615</td>\n",
       "    </tr>\n",
       "    <tr>\n",
       "      <th>4</th>\n",
       "      <td>24875.283548</td>\n",
       "      <td>52</td>\n",
       "      <td>4</td>\n",
       "      <td>Professional</td>\n",
       "      <td>Tier_2</td>\n",
       "      <td>4975.056710</td>\n",
       "      <td>3112.609398</td>\n",
       "      <td>635.907170</td>\n",
       "      <td>3034.329665</td>\n",
       "      <td>1276.155163</td>\n",
       "      <td>692.827225</td>\n",
       "      <td>660.186852</td>\n",
       "      <td>1092.689024</td>\n",
       "      <td>1169.095816</td>\n",
       "      <td>1445.215694</td>\n",
       "      <td>515.510300</td>\n",
       "      <td>1874.099434</td>\n",
       "      <td>6265.700532</td>\n",
       "    </tr>\n",
       "  </tbody>\n",
       "</table>\n",
       "</div>"
      ],
      "text/plain": [
       "          Income  Age  Dependents     Occupation City_Tier          Rent  \\\n",
       "0   44637.249636   49           0  Self_Employed    Tier_1  13391.174891   \n",
       "1   26858.596592   34           2        Retired    Tier_2   5371.719318   \n",
       "2   50367.605084   35           1        Student    Tier_3   7555.140763   \n",
       "3  101455.600247   21           0  Self_Employed    Tier_3  15218.340037   \n",
       "4   24875.283548   52           4   Professional    Tier_2   4975.056710   \n",
       "\n",
       "   Loan_Repayment    Insurance     Groceries    Transport   Eating_Out  \\\n",
       "0        0.000000  2206.490129   6658.768341  2636.970696  1651.801726   \n",
       "1        0.000000   869.522617   2818.444460  1543.018778   649.378103   \n",
       "2     4612.103386  2201.800050   6313.222081  3221.396403  1513.814376   \n",
       "3     6809.441427  4889.418087  14690.149363  7106.130005  5040.249158   \n",
       "4     3112.609398   635.907170   3034.329665  1276.155163   692.827225   \n",
       "\n",
       "   Entertainment    Utilities   Healthcare    Education  Miscellaneous  \\\n",
       "0    1536.184255  2911.792231  1546.914539     0.000000     831.525120   \n",
       "1    1050.241738  1626.143346  1137.351325  1551.723167     564.235007   \n",
       "2    1723.306926  3368.457108  2178.515847  3160.026299     628.371220   \n",
       "3    2858.194240  6128.550387  4571.118217     0.000000    2526.055712   \n",
       "4     660.186852  1092.689024  1169.095816  1445.215694     515.510300   \n",
       "\n",
       "   Desired_Savings  Disposable_Income  \n",
       "0      6200.537192       11265.627707  \n",
       "1      1923.176434        9676.818733  \n",
       "2      7050.360422       13891.450624  \n",
       "3     16694.965136       31617.953615  \n",
       "4      1874.099434        6265.700532  "
      ]
     },
     "execution_count": 138,
     "metadata": {},
     "output_type": "execute_result"
    }
   ],
   "source": [
    "df.head()"
   ]
  },
  {
   "cell_type": "markdown",
   "metadata": {},
   "source": [
    "## 1. Data Wragling\n",
    "- Handling with Missing Values  \n",
    "    &rarr; This data do not contain missing values\n",
    "- Formatting Data\n",
    "- Normalizing Data\n",
    "- Binning Data: Binning `Age` into `Age_Group`"
   ]
  },
  {
   "cell_type": "code",
   "execution_count": 139,
   "metadata": {},
   "outputs": [
    {
     "data": {
      "text/plain": [
       "Income               0\n",
       "Age                  0\n",
       "Dependents           0\n",
       "Occupation           0\n",
       "City_Tier            0\n",
       "Rent                 0\n",
       "Loan_Repayment       0\n",
       "Insurance            0\n",
       "Groceries            0\n",
       "Transport            0\n",
       "Eating_Out           0\n",
       "Entertainment        0\n",
       "Utilities            0\n",
       "Healthcare           0\n",
       "Education            0\n",
       "Miscellaneous        0\n",
       "Desired_Savings      0\n",
       "Disposable_Income    0\n",
       "dtype: int64"
      ]
     },
     "execution_count": 139,
     "metadata": {},
     "output_type": "execute_result"
    }
   ],
   "source": [
    "# Checking for null value\n",
    "\n",
    "df.isnull().sum()"
   ]
  },
  {
   "cell_type": "markdown",
   "metadata": {},
   "source": [
    "&rarr; There is no missing value in this dataset"
   ]
  },
  {
   "cell_type": "code",
   "execution_count": 140,
   "metadata": {},
   "outputs": [
    {
     "data": {
      "text/plain": [
       "Income               float64\n",
       "Age                    int64\n",
       "Dependents             int64\n",
       "Occupation            object\n",
       "City_Tier             object\n",
       "Rent                 float64\n",
       "Loan_Repayment       float64\n",
       "Insurance            float64\n",
       "Groceries            float64\n",
       "Transport            float64\n",
       "Eating_Out           float64\n",
       "Entertainment        float64\n",
       "Utilities            float64\n",
       "Healthcare           float64\n",
       "Education            float64\n",
       "Miscellaneous        float64\n",
       "Desired_Savings      float64\n",
       "Disposable_Income    float64\n",
       "dtype: object"
      ]
     },
     "execution_count": 140,
     "metadata": {},
     "output_type": "execute_result"
    }
   ],
   "source": [
    "# Checking for datatypes\n",
    "\n",
    "df.dtypes"
   ]
  },
  {
   "cell_type": "markdown",
   "metadata": {},
   "source": [
    "&rarr; Columns are in the right data type. "
   ]
  },
  {
   "cell_type": "markdown",
   "metadata": {},
   "source": [
    "**Binning Age into AgeGroup**"
   ]
  },
  {
   "cell_type": "code",
   "execution_count": 141,
   "metadata": {},
   "outputs": [
    {
     "data": {
      "text/plain": [
       "Text(0.5, 1.0, 'Age Distribution')"
      ]
     },
     "execution_count": 141,
     "metadata": {},
     "output_type": "execute_result"
    },
    {
     "data": {
      "image/png": "[encoded data removed]",
      "text/plain": [
       "<Figure size 640x480 with 1 Axes>"
      ]
     },
     "metadata": {},
     "output_type": "display_data"
    }
   ],
   "source": [
    "%matplotlib inline\n",
    "\n",
    "plt.hist(df[\"Age\"])\n",
    "\n",
    "# set x/y labels and plot title\n",
    "plt.xlabel(\"age\")\n",
    "plt.ylabel(\"count\")\n",
    "plt.title(\"Age Distribution\")"
   ]
  },
  {
   "cell_type": "markdown",
   "metadata": {},
   "source": [
    "We specify the range of age group as:\n",
    "- younger: 18 to 35 y/o\n",
    "- middle-aged: 36 to 55 y/o\n",
    "- senior: 55 and older"
   ]
  },
  {
   "cell_type": "code",
   "execution_count": 142,
   "metadata": {},
   "outputs": [
    {
     "data": {
      "text/html": [
       "<div>\n",
       "<style scoped>\n",
       "    .dataframe tbody tr th:only-of-type {\n",
       "        vertical-align: middle;\n",
       "    }\n",
       "\n",
       "    .dataframe tbody tr th {\n",
       "        vertical-align: top;\n",
       "    }\n",
       "\n",
       "    .dataframe thead th {\n",
       "        text-align: right;\n",
       "    }\n",
       "</style>\n",
       "<table border=\"1\" class=\"dataframe\">\n",
       "  <thead>\n",
       "    <tr style=\"text-align: right;\">\n",
       "      <th></th>\n",
       "      <th>Age</th>\n",
       "      <th>Age_Group</th>\n",
       "    </tr>\n",
       "  </thead>\n",
       "  <tbody>\n",
       "    <tr>\n",
       "      <th>0</th>\n",
       "      <td>49</td>\n",
       "      <td>middle-aged</td>\n",
       "    </tr>\n",
       "    <tr>\n",
       "      <th>1</th>\n",
       "      <td>34</td>\n",
       "      <td>younger</td>\n",
       "    </tr>\n",
       "    <tr>\n",
       "      <th>2</th>\n",
       "      <td>35</td>\n",
       "      <td>younger</td>\n",
       "    </tr>\n",
       "    <tr>\n",
       "      <th>3</th>\n",
       "      <td>21</td>\n",
       "      <td>younger</td>\n",
       "    </tr>\n",
       "    <tr>\n",
       "      <th>4</th>\n",
       "      <td>52</td>\n",
       "      <td>middle-aged</td>\n",
       "    </tr>\n",
       "  </tbody>\n",
       "</table>\n",
       "</div>"
      ],
      "text/plain": [
       "   Age    Age_Group\n",
       "0   49  middle-aged\n",
       "1   34      younger\n",
       "2   35      younger\n",
       "3   21      younger\n",
       "4   52  middle-aged"
      ]
     },
     "execution_count": 142,
     "metadata": {},
     "output_type": "execute_result"
    }
   ],
   "source": [
    "age_group = np.array([18, 35, 55, max(df['Age'])])\n",
    "age_group_labels=['younger', 'middle-aged', 'senior']\n",
    "\n",
    "df['Age_Group'] = pd.cut(df['Age'], age_group, labels=age_group_labels, include_lowest=True )\n",
    "df[['Age','Age_Group']].head()"
   ]
  },
  {
   "cell_type": "code",
   "execution_count": 143,
   "metadata": {},
   "outputs": [
    {
     "data": {
      "text/plain": [
       "Age_Group\n",
       "younger        7602\n",
       "middle-aged    8519\n",
       "senior         3879\n",
       "Name: count, dtype: int64"
      ]
     },
     "execution_count": 143,
     "metadata": {},
     "output_type": "execute_result"
    }
   ],
   "source": [
    "df['Age_Group'].value_counts(sort=False)"
   ]
  },
  {
   "cell_type": "code",
   "execution_count": 144,
   "metadata": {},
   "outputs": [
    {
     "data": {
      "text/plain": [
       "Text(0.5, 1.0, 'Age Group Distribution')"
      ]
     },
     "execution_count": 144,
     "metadata": {},
     "output_type": "execute_result"
    },
    {
     "data": {
      "image/png": "[encoded data removed]",
      "text/plain": [
       "<Figure size 640x480 with 1 Axes>"
      ]
     },
     "metadata": {},
     "output_type": "display_data"
    }
   ],
   "source": [
    "%matplotlib inline\n",
    "\n",
    "plt.bar(age_group_labels, df[\"Age_Group\"].value_counts(sort=False))\n",
    "\n",
    "# set x/y labels and plot title\n",
    "plt.xlabel(\"Age Group\")\n",
    "plt.ylabel(\"Count\")\n",
    "plt.title(\"Age Group Distribution\")"
   ]
  },
  {
   "cell_type": "markdown",
   "metadata": {},
   "source": [
    "## 2. Data Preprocessing \n",
    "- Feature Engineering: \n",
    "    - Create `Neccessary_Expense` feature (including <ins>Rent</ins>, <ins>Insurance</ins>, <ins>Groceries</ins>, <ins>Transport</ins>, <ins>Utilities</ins>, <ins>Healthcare</ins>, <ins>Education</ins> and 65% of <ins>Miscellaneous</ins>)\n",
    "    - Create `Discretionary_Expenses` feature (including <ins>Entertainment</ins>, <ins>Eating_Out</ins> and 35% of <ins>Miscellaneous</ins>)\n",
    "    - Create feature `Fin_Point` and `Fin_Health` based on criteria mentioned in **Project Objectives** section.\n",
    "- Encoding Categorical Variables:\n",
    "    - Use <ins>One-hot Encoding</ins> for `City_Tier`"
   ]
  },
  {
   "cell_type": "code",
   "execution_count": 53,
   "metadata": {},
   "outputs": [],
   "source": [
    "def expense_category_neccessary(df):\n",
    "    neccessary = ['Rent', 'Insurance', 'Groceries', 'Transport', 'Utilities', 'Healthcare', 'Education']\n",
    "    return sum(df[neccessary]) "
   ]
  },
  {
   "cell_type": "code",
   "execution_count": 54,
   "metadata": {},
   "outputs": [],
   "source": [
    "def expense_category_discreationary(df):\n",
    "    discretionary = ['Entertainment', 'Eating_Out']\n",
    "    return sum(df[discretionary])"
   ]
  },
  {
   "cell_type": "code",
   "execution_count": 55,
   "metadata": {},
   "outputs": [],
   "source": [
    "def financial_point(df):\n",
    "    point = 0\n",
    "    # Budget Adherence\n",
    "    if df['Disposable_Income'] > 0: \n",
    "        point +=1\n",
    "    # Expense Management\n",
    "    ## Note: We assume that 35% of Miscellaneous expense would go toward Discretionary expense\n",
    "    if df['Discretionary_Expense'] < df['Income']*0.3:\n",
    "        point +=1\n",
    "    # Saving Rate\n",
    "    ## Note: We assume that 65% of Disposable Income would be the Actual Saving amount\n",
    "    if 0.65*df['Disposable_Income'] >= df['Desired_Savings']:\n",
    "        point+=0.5\n",
    "    if 0.65*df['Disposable_Income'] >= 0.20*df['Income']:\n",
    "        point += 1\n",
    "    # Debt Management \n",
    "    if (df['Loan_Repayment']/df['Income']) < 0.36:\n",
    "        point += 1\n",
    "    return point"
   ]
  },
  {
   "cell_type": "code",
   "execution_count": 56,
   "metadata": {},
   "outputs": [],
   "source": [
    "def fin_health_category(df):\n",
    "\n",
    "    if df['Fin_Point'] >= 4:\n",
    "        fin_health = 2\n",
    "    elif df['Fin_Point'] >= 3:\n",
    "        fin_health = 1\n",
    "    elif df['Fin_Point'] < 3:\n",
    "        fin_health = 0\n",
    "    \n",
    "    return fin_health"
   ]
  },
  {
   "cell_type": "code",
   "execution_count": 57,
   "metadata": {},
   "outputs": [],
   "source": [
    "need = df.apply(expense_category_neccessary, axis=1)\n",
    "df['Neccessary_Expense'] = need"
   ]
  },
  {
   "cell_type": "code",
   "execution_count": 58,
   "metadata": {},
   "outputs": [],
   "source": [
    "disc = df.apply(expense_category_discreationary, axis=1)\n",
    "df['Discretionary_Expense'] = disc"
   ]
  },
  {
   "cell_type": "code",
   "execution_count": 59,
   "metadata": {},
   "outputs": [
    {
     "data": {
      "text/plain": [
       "Fin_Point\n",
       "3.5    9761\n",
       "4.5    6541\n",
       "3.0    3470\n",
       "4.0     116\n",
       "2.0     112\n",
       "Name: count, dtype: int64"
      ]
     },
     "execution_count": 59,
     "metadata": {},
     "output_type": "execute_result"
    }
   ],
   "source": [
    "fin_point = df.apply(financial_point, axis=1)\n",
    "df['Fin_Point'] = fin_point\n",
    "df['Fin_Point'].value_counts()"
   ]
  },
  {
   "cell_type": "code",
   "execution_count": 60,
   "metadata": {},
   "outputs": [
    {
     "data": {
      "text/plain": [
       "Fin_Health\n",
       "1    13231\n",
       "2     6657\n",
       "0      112\n",
       "Name: count, dtype: int64"
      ]
     },
     "execution_count": 60,
     "metadata": {},
     "output_type": "execute_result"
    }
   ],
   "source": [
    "fin_health = df.apply(fin_health_category, axis=1)\n",
    "df['Fin_Health'] = fin_health\n",
    "df['Fin_Health'].value_counts()\n"
   ]
  },
  {
   "cell_type": "code",
   "execution_count": 145,
   "metadata": {},
   "outputs": [],
   "source": [
    "df = pd.get_dummies(df, columns=['City_Tier'], prefix='encoded', dtype=int)"
   ]
  },
  {
   "cell_type": "code",
   "execution_count": 146,
   "metadata": {},
   "outputs": [
    {
     "data": {
      "text/html": [
       "<div>\n",
       "<style scoped>\n",
       "    .dataframe tbody tr th:only-of-type {\n",
       "        vertical-align: middle;\n",
       "    }\n",
       "\n",
       "    .dataframe tbody tr th {\n",
       "        vertical-align: top;\n",
       "    }\n",
       "\n",
       "    .dataframe thead th {\n",
       "        text-align: right;\n",
       "    }\n",
       "</style>\n",
       "<table border=\"1\" class=\"dataframe\">\n",
       "  <thead>\n",
       "    <tr style=\"text-align: right;\">\n",
       "      <th></th>\n",
       "      <th>Income</th>\n",
       "      <th>Age</th>\n",
       "      <th>Dependents</th>\n",
       "      <th>Occupation</th>\n",
       "      <th>Rent</th>\n",
       "      <th>Loan_Repayment</th>\n",
       "      <th>Insurance</th>\n",
       "      <th>Groceries</th>\n",
       "      <th>Transport</th>\n",
       "      <th>Eating_Out</th>\n",
       "      <th>...</th>\n",
       "      <th>Utilities</th>\n",
       "      <th>Healthcare</th>\n",
       "      <th>Education</th>\n",
       "      <th>Miscellaneous</th>\n",
       "      <th>Desired_Savings</th>\n",
       "      <th>Disposable_Income</th>\n",
       "      <th>Age_Group</th>\n",
       "      <th>encoded_Tier_1</th>\n",
       "      <th>encoded_Tier_2</th>\n",
       "      <th>encoded_Tier_3</th>\n",
       "    </tr>\n",
       "  </thead>\n",
       "  <tbody>\n",
       "    <tr>\n",
       "      <th>0</th>\n",
       "      <td>44637.249636</td>\n",
       "      <td>49</td>\n",
       "      <td>0</td>\n",
       "      <td>Self_Employed</td>\n",
       "      <td>13391.174891</td>\n",
       "      <td>0.000000</td>\n",
       "      <td>2206.490129</td>\n",
       "      <td>6658.768341</td>\n",
       "      <td>2636.970696</td>\n",
       "      <td>1651.801726</td>\n",
       "      <td>...</td>\n",
       "      <td>2911.792231</td>\n",
       "      <td>1546.914539</td>\n",
       "      <td>0.000000</td>\n",
       "      <td>831.525120</td>\n",
       "      <td>6200.537192</td>\n",
       "      <td>11265.627707</td>\n",
       "      <td>middle-aged</td>\n",
       "      <td>1</td>\n",
       "      <td>0</td>\n",
       "      <td>0</td>\n",
       "    </tr>\n",
       "    <tr>\n",
       "      <th>1</th>\n",
       "      <td>26858.596592</td>\n",
       "      <td>34</td>\n",
       "      <td>2</td>\n",
       "      <td>Retired</td>\n",
       "      <td>5371.719318</td>\n",
       "      <td>0.000000</td>\n",
       "      <td>869.522617</td>\n",
       "      <td>2818.444460</td>\n",
       "      <td>1543.018778</td>\n",
       "      <td>649.378103</td>\n",
       "      <td>...</td>\n",
       "      <td>1626.143346</td>\n",
       "      <td>1137.351325</td>\n",
       "      <td>1551.723167</td>\n",
       "      <td>564.235007</td>\n",
       "      <td>1923.176434</td>\n",
       "      <td>9676.818733</td>\n",
       "      <td>younger</td>\n",
       "      <td>0</td>\n",
       "      <td>1</td>\n",
       "      <td>0</td>\n",
       "    </tr>\n",
       "    <tr>\n",
       "      <th>2</th>\n",
       "      <td>50367.605084</td>\n",
       "      <td>35</td>\n",
       "      <td>1</td>\n",
       "      <td>Student</td>\n",
       "      <td>7555.140763</td>\n",
       "      <td>4612.103386</td>\n",
       "      <td>2201.800050</td>\n",
       "      <td>6313.222081</td>\n",
       "      <td>3221.396403</td>\n",
       "      <td>1513.814376</td>\n",
       "      <td>...</td>\n",
       "      <td>3368.457108</td>\n",
       "      <td>2178.515847</td>\n",
       "      <td>3160.026299</td>\n",
       "      <td>628.371220</td>\n",
       "      <td>7050.360422</td>\n",
       "      <td>13891.450624</td>\n",
       "      <td>younger</td>\n",
       "      <td>0</td>\n",
       "      <td>0</td>\n",
       "      <td>1</td>\n",
       "    </tr>\n",
       "    <tr>\n",
       "      <th>3</th>\n",
       "      <td>101455.600247</td>\n",
       "      <td>21</td>\n",
       "      <td>0</td>\n",
       "      <td>Self_Employed</td>\n",
       "      <td>15218.340037</td>\n",
       "      <td>6809.441427</td>\n",
       "      <td>4889.418087</td>\n",
       "      <td>14690.149363</td>\n",
       "      <td>7106.130005</td>\n",
       "      <td>5040.249158</td>\n",
       "      <td>...</td>\n",
       "      <td>6128.550387</td>\n",
       "      <td>4571.118217</td>\n",
       "      <td>0.000000</td>\n",
       "      <td>2526.055712</td>\n",
       "      <td>16694.965136</td>\n",
       "      <td>31617.953615</td>\n",
       "      <td>younger</td>\n",
       "      <td>0</td>\n",
       "      <td>0</td>\n",
       "      <td>1</td>\n",
       "    </tr>\n",
       "    <tr>\n",
       "      <th>4</th>\n",
       "      <td>24875.283548</td>\n",
       "      <td>52</td>\n",
       "      <td>4</td>\n",
       "      <td>Professional</td>\n",
       "      <td>4975.056710</td>\n",
       "      <td>3112.609398</td>\n",
       "      <td>635.907170</td>\n",
       "      <td>3034.329665</td>\n",
       "      <td>1276.155163</td>\n",
       "      <td>692.827225</td>\n",
       "      <td>...</td>\n",
       "      <td>1092.689024</td>\n",
       "      <td>1169.095816</td>\n",
       "      <td>1445.215694</td>\n",
       "      <td>515.510300</td>\n",
       "      <td>1874.099434</td>\n",
       "      <td>6265.700532</td>\n",
       "      <td>middle-aged</td>\n",
       "      <td>0</td>\n",
       "      <td>1</td>\n",
       "      <td>0</td>\n",
       "    </tr>\n",
       "  </tbody>\n",
       "</table>\n",
       "<p>5 rows × 21 columns</p>\n",
       "</div>"
      ],
      "text/plain": [
       "          Income  Age  Dependents     Occupation          Rent  \\\n",
       "0   44637.249636   49           0  Self_Employed  13391.174891   \n",
       "1   26858.596592   34           2        Retired   5371.719318   \n",
       "2   50367.605084   35           1        Student   7555.140763   \n",
       "3  101455.600247   21           0  Self_Employed  15218.340037   \n",
       "4   24875.283548   52           4   Professional   4975.056710   \n",
       "\n",
       "   Loan_Repayment    Insurance     Groceries    Transport   Eating_Out  ...  \\\n",
       "0        0.000000  2206.490129   6658.768341  2636.970696  1651.801726  ...   \n",
       "1        0.000000   869.522617   2818.444460  1543.018778   649.378103  ...   \n",
       "2     4612.103386  2201.800050   6313.222081  3221.396403  1513.814376  ...   \n",
       "3     6809.441427  4889.418087  14690.149363  7106.130005  5040.249158  ...   \n",
       "4     3112.609398   635.907170   3034.329665  1276.155163   692.827225  ...   \n",
       "\n",
       "     Utilities   Healthcare    Education  Miscellaneous  Desired_Savings  \\\n",
       "0  2911.792231  1546.914539     0.000000     831.525120      6200.537192   \n",
       "1  1626.143346  1137.351325  1551.723167     564.235007      1923.176434   \n",
       "2  3368.457108  2178.515847  3160.026299     628.371220      7050.360422   \n",
       "3  6128.550387  4571.118217     0.000000    2526.055712     16694.965136   \n",
       "4  1092.689024  1169.095816  1445.215694     515.510300      1874.099434   \n",
       "\n",
       "   Disposable_Income    Age_Group encoded_Tier_1  encoded_Tier_2  \\\n",
       "0       11265.627707  middle-aged              1               0   \n",
       "1        9676.818733      younger              0               1   \n",
       "2       13891.450624      younger              0               0   \n",
       "3       31617.953615      younger              0               0   \n",
       "4        6265.700532  middle-aged              0               1   \n",
       "\n",
       "   encoded_Tier_3  \n",
       "0               0  \n",
       "1               0  \n",
       "2               1  \n",
       "3               1  \n",
       "4               0  \n",
       "\n",
       "[5 rows x 21 columns]"
      ]
     },
     "execution_count": 146,
     "metadata": {},
     "output_type": "execute_result"
    }
   ],
   "source": [
    "df.head()"
   ]
  },
  {
   "cell_type": "markdown",
   "metadata": {},
   "source": [
    "## 3. Exploratory Data Analysis\n",
    "- Descriptive Statistic\n",
    "- GroupBy\n",
    "- Visualizating Data\n",
    "- Determine Correlations\n",
    "    1. Age and Income do not have indentifiable correlation. \n",
    "    2. Income and Occupation: Income distribution between 4 type of Occupation are almost identical\n",
    "    2. Is spending habit varied through age?"
   ]
  },
  {
   "cell_type": "code",
   "execution_count": 61,
   "metadata": {},
   "outputs": [
    {
     "data": {
      "text/html": [
       "<div>\n",
       "<style scoped>\n",
       "    .dataframe tbody tr th:only-of-type {\n",
       "        vertical-align: middle;\n",
       "    }\n",
       "\n",
       "    .dataframe tbody tr th {\n",
       "        vertical-align: top;\n",
       "    }\n",
       "\n",
       "    .dataframe thead th {\n",
       "        text-align: right;\n",
       "    }\n",
       "</style>\n",
       "<table border=\"1\" class=\"dataframe\">\n",
       "  <thead>\n",
       "    <tr style=\"text-align: right;\">\n",
       "      <th></th>\n",
       "      <th>Income</th>\n",
       "      <th>Age</th>\n",
       "      <th>Dependents</th>\n",
       "      <th>City_Tier</th>\n",
       "      <th>Rent</th>\n",
       "      <th>Loan_Repayment</th>\n",
       "      <th>Insurance</th>\n",
       "      <th>Groceries</th>\n",
       "      <th>Transport</th>\n",
       "      <th>Eating_Out</th>\n",
       "      <th>...</th>\n",
       "      <th>Utilities</th>\n",
       "      <th>Healthcare</th>\n",
       "      <th>Education</th>\n",
       "      <th>Miscellaneous</th>\n",
       "      <th>Desired_Savings</th>\n",
       "      <th>Disposable_Income</th>\n",
       "      <th>Neccessary_Expense</th>\n",
       "      <th>Discretionary_Expense</th>\n",
       "      <th>Fin_Point</th>\n",
       "      <th>Fin_Health</th>\n",
       "    </tr>\n",
       "  </thead>\n",
       "  <tbody>\n",
       "    <tr>\n",
       "      <th>count</th>\n",
       "      <td>20000.00</td>\n",
       "      <td>20000.00</td>\n",
       "      <td>20000.00</td>\n",
       "      <td>20000.0</td>\n",
       "      <td>20000.00</td>\n",
       "      <td>20000.00</td>\n",
       "      <td>20000.00</td>\n",
       "      <td>20000.00</td>\n",
       "      <td>20000.00</td>\n",
       "      <td>20000.00</td>\n",
       "      <td>...</td>\n",
       "      <td>20000.00</td>\n",
       "      <td>20000.00</td>\n",
       "      <td>20000.00</td>\n",
       "      <td>20000.00</td>\n",
       "      <td>20000.00</td>\n",
       "      <td>20000.00</td>\n",
       "      <td>20000.00</td>\n",
       "      <td>20000.00</td>\n",
       "      <td>20000.00</td>\n",
       "      <td>20000.00</td>\n",
       "    </tr>\n",
       "    <tr>\n",
       "      <th>mean</th>\n",
       "      <td>41585.50</td>\n",
       "      <td>41.03</td>\n",
       "      <td>2.00</td>\n",
       "      <td>1.9</td>\n",
       "      <td>9115.49</td>\n",
       "      <td>2049.80</td>\n",
       "      <td>1455.03</td>\n",
       "      <td>5205.67</td>\n",
       "      <td>2704.47</td>\n",
       "      <td>1461.86</td>\n",
       "      <td>...</td>\n",
       "      <td>2504.98</td>\n",
       "      <td>1663.08</td>\n",
       "      <td>2498.35</td>\n",
       "      <td>830.55</td>\n",
       "      <td>4982.88</td>\n",
       "      <td>10647.37</td>\n",
       "      <td>25147.06</td>\n",
       "      <td>2910.71</td>\n",
       "      <td>3.73</td>\n",
       "      <td>1.33</td>\n",
       "    </tr>\n",
       "    <tr>\n",
       "      <th>std</th>\n",
       "      <td>40014.54</td>\n",
       "      <td>13.58</td>\n",
       "      <td>1.42</td>\n",
       "      <td>0.7</td>\n",
       "      <td>9254.23</td>\n",
       "      <td>4281.79</td>\n",
       "      <td>1492.94</td>\n",
       "      <td>5035.95</td>\n",
       "      <td>2666.35</td>\n",
       "      <td>1481.66</td>\n",
       "      <td>...</td>\n",
       "      <td>2522.98</td>\n",
       "      <td>1628.16</td>\n",
       "      <td>3098.44</td>\n",
       "      <td>845.02</td>\n",
       "      <td>7733.47</td>\n",
       "      <td>11740.64</td>\n",
       "      <td>24499.94</td>\n",
       "      <td>2887.24</td>\n",
       "      <td>0.57</td>\n",
       "      <td>0.48</td>\n",
       "    </tr>\n",
       "    <tr>\n",
       "      <th>min</th>\n",
       "      <td>1301.19</td>\n",
       "      <td>18.00</td>\n",
       "      <td>0.00</td>\n",
       "      <td>1.0</td>\n",
       "      <td>235.37</td>\n",
       "      <td>0.00</td>\n",
       "      <td>30.00</td>\n",
       "      <td>154.08</td>\n",
       "      <td>81.23</td>\n",
       "      <td>39.44</td>\n",
       "      <td>...</td>\n",
       "      <td>75.43</td>\n",
       "      <td>53.50</td>\n",
       "      <td>0.00</td>\n",
       "      <td>20.50</td>\n",
       "      <td>0.00</td>\n",
       "      <td>-5400.79</td>\n",
       "      <td>788.99</td>\n",
       "      <td>93.13</td>\n",
       "      <td>2.00</td>\n",
       "      <td>0.00</td>\n",
       "    </tr>\n",
       "    <tr>\n",
       "      <th>25%</th>\n",
       "      <td>17604.88</td>\n",
       "      <td>29.00</td>\n",
       "      <td>1.00</td>\n",
       "      <td>1.0</td>\n",
       "      <td>3649.42</td>\n",
       "      <td>0.00</td>\n",
       "      <td>580.20</td>\n",
       "      <td>2165.43</td>\n",
       "      <td>1124.58</td>\n",
       "      <td>581.01</td>\n",
       "      <td>...</td>\n",
       "      <td>1017.67</td>\n",
       "      <td>684.36</td>\n",
       "      <td>611.68</td>\n",
       "      <td>323.63</td>\n",
       "      <td>1224.93</td>\n",
       "      <td>3774.89</td>\n",
       "      <td>10478.42</td>\n",
       "      <td>1193.98</td>\n",
       "      <td>3.50</td>\n",
       "      <td>1.00</td>\n",
       "    </tr>\n",
       "    <tr>\n",
       "      <th>50%</th>\n",
       "      <td>30185.38</td>\n",
       "      <td>41.00</td>\n",
       "      <td>2.00</td>\n",
       "      <td>2.0</td>\n",
       "      <td>6402.75</td>\n",
       "      <td>0.00</td>\n",
       "      <td>1017.12</td>\n",
       "      <td>3741.09</td>\n",
       "      <td>1933.85</td>\n",
       "      <td>1029.11</td>\n",
       "      <td>...</td>\n",
       "      <td>1766.47</td>\n",
       "      <td>1189.20</td>\n",
       "      <td>1701.90</td>\n",
       "      <td>579.08</td>\n",
       "      <td>2155.36</td>\n",
       "      <td>7224.89</td>\n",
       "      <td>18120.47</td>\n",
       "      <td>2085.89</td>\n",
       "      <td>3.50</td>\n",
       "      <td>1.00</td>\n",
       "    </tr>\n",
       "    <tr>\n",
       "      <th>75%</th>\n",
       "      <td>51765.45</td>\n",
       "      <td>53.00</td>\n",
       "      <td>3.00</td>\n",
       "      <td>2.0</td>\n",
       "      <td>11263.94</td>\n",
       "      <td>2627.14</td>\n",
       "      <td>1787.16</td>\n",
       "      <td>6470.89</td>\n",
       "      <td>3360.60</td>\n",
       "      <td>1807.08</td>\n",
       "      <td>...</td>\n",
       "      <td>3103.72</td>\n",
       "      <td>2057.08</td>\n",
       "      <td>3311.71</td>\n",
       "      <td>1025.20</td>\n",
       "      <td>6216.31</td>\n",
       "      <td>13331.95</td>\n",
       "      <td>31138.25</td>\n",
       "      <td>3590.97</td>\n",
       "      <td>4.50</td>\n",
       "      <td>2.00</td>\n",
       "    </tr>\n",
       "    <tr>\n",
       "      <th>max</th>\n",
       "      <td>1079728.37</td>\n",
       "      <td>64.00</td>\n",
       "      <td>4.00</td>\n",
       "      <td>3.0</td>\n",
       "      <td>215945.67</td>\n",
       "      <td>123080.68</td>\n",
       "      <td>38734.93</td>\n",
       "      <td>119816.90</td>\n",
       "      <td>81861.50</td>\n",
       "      <td>34406.10</td>\n",
       "      <td>...</td>\n",
       "      <td>53725.44</td>\n",
       "      <td>36001.53</td>\n",
       "      <td>81665.09</td>\n",
       "      <td>15856.36</td>\n",
       "      <td>245504.49</td>\n",
       "      <td>377060.22</td>\n",
       "      <td>625181.82</td>\n",
       "      <td>62510.11</td>\n",
       "      <td>4.50</td>\n",
       "      <td>2.00</td>\n",
       "    </tr>\n",
       "  </tbody>\n",
       "</table>\n",
       "<p>8 rows × 21 columns</p>\n",
       "</div>"
      ],
      "text/plain": [
       "           Income       Age  Dependents  City_Tier       Rent  Loan_Repayment  \\\n",
       "count    20000.00  20000.00    20000.00    20000.0   20000.00        20000.00   \n",
       "mean     41585.50     41.03        2.00        1.9    9115.49         2049.80   \n",
       "std      40014.54     13.58        1.42        0.7    9254.23         4281.79   \n",
       "min       1301.19     18.00        0.00        1.0     235.37            0.00   \n",
       "25%      17604.88     29.00        1.00        1.0    3649.42            0.00   \n",
       "50%      30185.38     41.00        2.00        2.0    6402.75            0.00   \n",
       "75%      51765.45     53.00        3.00        2.0   11263.94         2627.14   \n",
       "max    1079728.37     64.00        4.00        3.0  215945.67       123080.68   \n",
       "\n",
       "       Insurance  Groceries  Transport  Eating_Out  ...  Utilities  \\\n",
       "count   20000.00   20000.00   20000.00    20000.00  ...   20000.00   \n",
       "mean     1455.03    5205.67    2704.47     1461.86  ...    2504.98   \n",
       "std      1492.94    5035.95    2666.35     1481.66  ...    2522.98   \n",
       "min        30.00     154.08      81.23       39.44  ...      75.43   \n",
       "25%       580.20    2165.43    1124.58      581.01  ...    1017.67   \n",
       "50%      1017.12    3741.09    1933.85     1029.11  ...    1766.47   \n",
       "75%      1787.16    6470.89    3360.60     1807.08  ...    3103.72   \n",
       "max     38734.93  119816.90   81861.50    34406.10  ...   53725.44   \n",
       "\n",
       "       Healthcare  Education  Miscellaneous  Desired_Savings  \\\n",
       "count    20000.00   20000.00       20000.00         20000.00   \n",
       "mean      1663.08    2498.35         830.55          4982.88   \n",
       "std       1628.16    3098.44         845.02          7733.47   \n",
       "min         53.50       0.00          20.50             0.00   \n",
       "25%        684.36     611.68         323.63          1224.93   \n",
       "50%       1189.20    1701.90         579.08          2155.36   \n",
       "75%       2057.08    3311.71        1025.20          6216.31   \n",
       "max      36001.53   81665.09       15856.36        245504.49   \n",
       "\n",
       "       Disposable_Income  Neccessary_Expense  Discretionary_Expense  \\\n",
       "count           20000.00            20000.00               20000.00   \n",
       "mean            10647.37            25147.06                2910.71   \n",
       "std             11740.64            24499.94                2887.24   \n",
       "min             -5400.79              788.99                  93.13   \n",
       "25%              3774.89            10478.42                1193.98   \n",
       "50%              7224.89            18120.47                2085.89   \n",
       "75%             13331.95            31138.25                3590.97   \n",
       "max            377060.22           625181.82               62510.11   \n",
       "\n",
       "       Fin_Point  Fin_Health  \n",
       "count   20000.00    20000.00  \n",
       "mean        3.73        1.33  \n",
       "std         0.57        0.48  \n",
       "min         2.00        0.00  \n",
       "25%         3.50        1.00  \n",
       "50%         3.50        1.00  \n",
       "75%         4.50        2.00  \n",
       "max         4.50        2.00  \n",
       "\n",
       "[8 rows x 21 columns]"
      ]
     },
     "execution_count": 61,
     "metadata": {},
     "output_type": "execute_result"
    }
   ],
   "source": [
    "# Descriptive Statistic Table\n",
    "\n",
    "df.describe().round(2)"
   ]
  },
  {
   "cell_type": "code",
   "execution_count": 62,
   "metadata": {},
   "outputs": [
    {
     "data": {
      "image/png": "[encoded data removed]",
      "text/plain": [
       "<Figure size 640x480 with 2 Axes>"
      ]
     },
     "metadata": {},
     "output_type": "display_data"
    }
   ],
   "source": [
    "heatplot = sns.heatmap(df.corr(numeric_only=True), cmap='RdBu', center=0)"
   ]
  },
  {
   "cell_type": "markdown",
   "metadata": {},
   "source": [
    "Looking into this correlation heatmap, there are some interesting insights that we can explore deeper:\n",
    "- `Age` have no correlation with any other variables.\n",
    "- `City_Tier` have negative correlation with `Rent` (Remember the most densely populated type of city have tier 1, meaning that the larger the city, the higher the rent fee would be)\n",
    "- Consequentially, while `Rent` have negative impact on `Fin_Health`, `City_Tier` have a positive correlation with 'Fin_Health`\n",
    "- `Dependents` column have negative correlation with `Fin_Health`"
   ]
  },
  {
   "cell_type": "markdown",
   "metadata": {},
   "source": [
    "##### 1. Age, Income and Occupation: Have no identifiable correlation\n",
    "In this correlation heatmap, we can see that `Age` and `Income` have no correlation. But it is more reasonable to think that `Age` and `Income` should have a positive linear relationship, isn't it? "
   ]
  },
  {
   "cell_type": "code",
   "execution_count": 222,
   "metadata": {},
   "outputs": [
    {
     "name": "stdout",
     "output_type": "stream",
     "text": [
      "1301.1873325549093\n",
      "1079728.3735172302\n"
     ]
    }
   ],
   "source": [
    "print(df['Income'].min())\n",
    "print(df['Income'].max())"
   ]
  },
  {
   "cell_type": "markdown",
   "metadata": {},
   "source": [
    "We can see that between the lowest and highest `Income` value in the dataset have a significantly wide gap"
   ]
  },
  {
   "cell_type": "code",
   "execution_count": 37,
   "metadata": {},
   "outputs": [
    {
     "data": {
      "image/png": "[encoded data removed]",
      "text/plain": [
       "<Figure size 500x500 with 1 Axes>"
      ]
     },
     "metadata": {},
     "output_type": "display_data"
    }
   ],
   "source": [
    "# Ploting Scatter Plot of Age and Incom\n",
    "y = df['Age']\n",
    "x = df['Income']\n",
    "plt.subplots(figsize=(5,5))\n",
    "plt.scatter(x,y)\n",
    "plt.xlim(df['Income'].min(), df['Income'].max())\n",
    "plt.ticklabel_format(style='plain', axis='x')"
   ]
  },
  {
   "cell_type": "markdown",
   "metadata": {},
   "source": [
    "&rarr; **Conclusion:** The income amounts of all age are almost identical and indistinguishable"
   ]
  },
  {
   "cell_type": "code",
   "execution_count": 236,
   "metadata": {},
   "outputs": [
    {
     "data": {
      "text/plain": [
       "Occupation\n",
       "Retired          5019\n",
       "Professional     5011\n",
       "Student          5003\n",
       "Self_Employed    4967\n",
       "Name: count, dtype: int64"
      ]
     },
     "execution_count": 236,
     "metadata": {},
     "output_type": "execute_result"
    }
   ],
   "source": [
    "df['Occupation'].value_counts()"
   ]
  },
  {
   "cell_type": "code",
   "execution_count": 265,
   "metadata": {},
   "outputs": [
    {
     "name": "stderr",
     "output_type": "stream",
     "text": [
      "C:\\Users\\aDMIN\\AppData\\Local\\Temp\\ipykernel_28244\\2829941571.py:13: UserWarning: set_ticklabels() should only be used with a fixed number of ticks, i.e. after set_ticks() or using a FixedLocator.\n",
      "  ax.set_xticklabels(['Retired Income Boxplot', 'Student Income Boxplot',\n"
     ]
    },
    {
     "data": {
      "image/png": "[encoded data removed]",
      "text/plain": [
       "<Figure size 1000x700 with 1 Axes>"
      ]
     },
     "metadata": {},
     "output_type": "display_data"
    }
   ],
   "source": [
    "# Ploting Occupation Income Boxplot\n",
    "\n",
    "retired_box = df['Income'].loc[df['Occupation']=='Retired']\n",
    "student_box = df['Income'].loc[df['Occupation']=='Student']\n",
    "professional_box = df['Income'].loc[df['Occupation']=='Professional']\n",
    "self_employed_box = df['Income'].loc[df['Occupation']=='Self_Employed']\n",
    "data = [retired_box, student_box, professional_box, self_employed_box]\n",
    "\n",
    "fig = plt.figure(figsize =(10, 7))\n",
    "\n",
    "# Creating axes instance\n",
    "ax = fig.add_axes([0, 0, 1, 1])\n",
    "ax.set_xticklabels(['Retired Income Boxplot', 'Student Income Boxplot', \n",
    "                    'Professional Income Boxplot', 'Self Employed Boxplot'])\n",
    "\n",
    "# Creating plot\n",
    "bp = ax.boxplot(data)\n",
    "\n",
    "# show plot\n",
    "\n",
    "plt.ticklabel_format(style='plain', axis='y')\n",
    "plt.show()"
   ]
  },
  {
   "cell_type": "markdown",
   "metadata": {},
   "source": [
    "&rarr; **Conclusion**: `Income` distributions are almost identical between 4 types of `Occupation`"
   ]
  },
  {
   "cell_type": "markdown",
   "metadata": {},
   "source": [
    "##### 3. City Tier and Occupation Distribution"
   ]
  },
  {
   "cell_type": "code",
   "execution_count": 66,
   "metadata": {},
   "outputs": [
    {
     "data": {
      "text/html": [
       "<div>\n",
       "<style scoped>\n",
       "    .dataframe tbody tr th:only-of-type {\n",
       "        vertical-align: middle;\n",
       "    }\n",
       "\n",
       "    .dataframe tbody tr th {\n",
       "        vertical-align: top;\n",
       "    }\n",
       "\n",
       "    .dataframe thead th {\n",
       "        text-align: right;\n",
       "    }\n",
       "</style>\n",
       "<table border=\"1\" class=\"dataframe\">\n",
       "  <thead>\n",
       "    <tr style=\"text-align: right;\">\n",
       "      <th></th>\n",
       "      <th>City_Tier</th>\n",
       "      <th>Occupation</th>\n",
       "      <th>Count</th>\n",
       "    </tr>\n",
       "  </thead>\n",
       "  <tbody>\n",
       "    <tr>\n",
       "      <th>0</th>\n",
       "      <td>1</td>\n",
       "      <td>Professional</td>\n",
       "      <td>1489</td>\n",
       "    </tr>\n",
       "    <tr>\n",
       "      <th>1</th>\n",
       "      <td>1</td>\n",
       "      <td>Retired</td>\n",
       "      <td>1505</td>\n",
       "    </tr>\n",
       "    <tr>\n",
       "      <th>2</th>\n",
       "      <td>1</td>\n",
       "      <td>Self_Employed</td>\n",
       "      <td>1473</td>\n",
       "    </tr>\n",
       "    <tr>\n",
       "      <th>3</th>\n",
       "      <td>1</td>\n",
       "      <td>Student</td>\n",
       "      <td>1467</td>\n",
       "    </tr>\n",
       "    <tr>\n",
       "      <th>4</th>\n",
       "      <td>2</td>\n",
       "      <td>Professional</td>\n",
       "      <td>2499</td>\n",
       "    </tr>\n",
       "    <tr>\n",
       "      <th>5</th>\n",
       "      <td>2</td>\n",
       "      <td>Retired</td>\n",
       "      <td>2513</td>\n",
       "    </tr>\n",
       "    <tr>\n",
       "      <th>6</th>\n",
       "      <td>2</td>\n",
       "      <td>Self_Employed</td>\n",
       "      <td>2515</td>\n",
       "    </tr>\n",
       "    <tr>\n",
       "      <th>7</th>\n",
       "      <td>2</td>\n",
       "      <td>Student</td>\n",
       "      <td>2541</td>\n",
       "    </tr>\n",
       "    <tr>\n",
       "      <th>8</th>\n",
       "      <td>3</td>\n",
       "      <td>Professional</td>\n",
       "      <td>1023</td>\n",
       "    </tr>\n",
       "    <tr>\n",
       "      <th>9</th>\n",
       "      <td>3</td>\n",
       "      <td>Retired</td>\n",
       "      <td>1001</td>\n",
       "    </tr>\n",
       "    <tr>\n",
       "      <th>10</th>\n",
       "      <td>3</td>\n",
       "      <td>Self_Employed</td>\n",
       "      <td>979</td>\n",
       "    </tr>\n",
       "    <tr>\n",
       "      <th>11</th>\n",
       "      <td>3</td>\n",
       "      <td>Student</td>\n",
       "      <td>995</td>\n",
       "    </tr>\n",
       "  </tbody>\n",
       "</table>\n",
       "</div>"
      ],
      "text/plain": [
       "    City_Tier     Occupation  Count\n",
       "0           1   Professional   1489\n",
       "1           1        Retired   1505\n",
       "2           1  Self_Employed   1473\n",
       "3           1        Student   1467\n",
       "4           2   Professional   2499\n",
       "5           2        Retired   2513\n",
       "6           2  Self_Employed   2515\n",
       "7           2        Student   2541\n",
       "8           3   Professional   1023\n",
       "9           3        Retired   1001\n",
       "10          3  Self_Employed    979\n",
       "11          3        Student    995"
      ]
     },
     "execution_count": 66,
     "metadata": {},
     "output_type": "execute_result"
    }
   ],
   "source": [
    "city_occ_grp_df = df[['City_Tier', 'Occupation']]\n",
    "\n",
    "city_occ_grp_df = city_occ_grp_df.groupby(['City_Tier', 'Occupation'], as_index=False).size()\n",
    "city_occ_grp_df.rename(columns={'size':'Count'}, inplace=True)\n",
    "\n",
    "city_occ_grp_df"
   ]
  },
  {
   "cell_type": "code",
   "execution_count": 67,
   "metadata": {},
   "outputs": [
    {
     "data": {
      "text/html": [
       "<div>\n",
       "<style scoped>\n",
       "    .dataframe tbody tr th:only-of-type {\n",
       "        vertical-align: middle;\n",
       "    }\n",
       "\n",
       "    .dataframe tbody tr th {\n",
       "        vertical-align: top;\n",
       "    }\n",
       "\n",
       "    .dataframe thead tr th {\n",
       "        text-align: left;\n",
       "    }\n",
       "\n",
       "    .dataframe thead tr:last-of-type th {\n",
       "        text-align: right;\n",
       "    }\n",
       "</style>\n",
       "<table border=\"1\" class=\"dataframe\">\n",
       "  <thead>\n",
       "    <tr>\n",
       "      <th></th>\n",
       "      <th colspan=\"4\" halign=\"left\">Count</th>\n",
       "    </tr>\n",
       "    <tr>\n",
       "      <th>Occupation</th>\n",
       "      <th>Professional</th>\n",
       "      <th>Retired</th>\n",
       "      <th>Self_Employed</th>\n",
       "      <th>Student</th>\n",
       "    </tr>\n",
       "    <tr>\n",
       "      <th>City_Tier</th>\n",
       "      <th></th>\n",
       "      <th></th>\n",
       "      <th></th>\n",
       "      <th></th>\n",
       "    </tr>\n",
       "  </thead>\n",
       "  <tbody>\n",
       "    <tr>\n",
       "      <th>1</th>\n",
       "      <td>1489</td>\n",
       "      <td>1505</td>\n",
       "      <td>1473</td>\n",
       "      <td>1467</td>\n",
       "    </tr>\n",
       "    <tr>\n",
       "      <th>2</th>\n",
       "      <td>2499</td>\n",
       "      <td>2513</td>\n",
       "      <td>2515</td>\n",
       "      <td>2541</td>\n",
       "    </tr>\n",
       "    <tr>\n",
       "      <th>3</th>\n",
       "      <td>1023</td>\n",
       "      <td>1001</td>\n",
       "      <td>979</td>\n",
       "      <td>995</td>\n",
       "    </tr>\n",
       "  </tbody>\n",
       "</table>\n",
       "</div>"
      ],
      "text/plain": [
       "                  Count                              \n",
       "Occupation Professional Retired Self_Employed Student\n",
       "City_Tier                                            \n",
       "1                  1489    1505          1473    1467\n",
       "2                  2499    2513          2515    2541\n",
       "3                  1023    1001           979     995"
      ]
     },
     "execution_count": 67,
     "metadata": {},
     "output_type": "execute_result"
    }
   ],
   "source": [
    "city_occ_grouped_pivot = city_occ.pivot(index='City_Tier',columns='Occupation')\n",
    "\n",
    "city_occ_grouped_pivot"
   ]
  },
  {
   "cell_type": "code",
   "execution_count": 68,
   "metadata": {},
   "outputs": [
    {
     "data": {
      "image/png": "[encoded data removed]",
      "text/plain": [
       "<Figure size 640x480 with 2 Axes>"
      ]
     },
     "metadata": {},
     "output_type": "display_data"
    }
   ],
   "source": [
    "fig, ax = plt.subplots()\n",
    "im = ax.pcolor(city_occ_grouped_pivot, cmap='RdBu')\n",
    "\n",
    "#label names\n",
    "row_labels = city_occ_grouped_pivot.columns.levels[1]\n",
    "col_labels = city_occ_grouped_pivot.index\n",
    "\n",
    "#move ticks and labels to the center\n",
    "ax.set_xticks(np.arange(city_occ_grouped_pivot.shape[1]) + 0.5, minor=False)\n",
    "ax.set_yticks(np.arange(city_occ_grouped_pivot.shape[0]) + 0.5, minor=False)\n",
    "\n",
    "#insert labels\n",
    "ax.set_xticklabels(row_labels, minor=False)\n",
    "ax.set_yticklabels(col_labels, minor=False)\n",
    "\n",
    "#rotate label if too long\n",
    "plt.xticks(rotation=90)\n",
    "\n",
    "fig.colorbar(im)\n",
    "plt.show()"
   ]
  },
  {
   "cell_type": "markdown",
   "metadata": {},
   "source": [
    "##### City Tier and Rent\n",
    "\n",
    "We know that `Rent` affect badly to `Fin_Health`, but does `Rent` varied through `City_Tier`?"
   ]
  },
  {
   "cell_type": "code",
   "execution_count": 69,
   "metadata": {},
   "outputs": [
    {
     "data": {
      "text/html": [
       "<div>\n",
       "<style scoped>\n",
       "    .dataframe tbody tr th:only-of-type {\n",
       "        vertical-align: middle;\n",
       "    }\n",
       "\n",
       "    .dataframe tbody tr th {\n",
       "        vertical-align: top;\n",
       "    }\n",
       "\n",
       "    .dataframe thead th {\n",
       "        text-align: right;\n",
       "    }\n",
       "</style>\n",
       "<table border=\"1\" class=\"dataframe\">\n",
       "  <thead>\n",
       "    <tr style=\"text-align: right;\">\n",
       "      <th></th>\n",
       "      <th>City_Tier</th>\n",
       "      <th>Rent</th>\n",
       "    </tr>\n",
       "  </thead>\n",
       "  <tbody>\n",
       "    <tr>\n",
       "      <th>0</th>\n",
       "      <td>1</td>\n",
       "      <td>12320.517019</td>\n",
       "    </tr>\n",
       "    <tr>\n",
       "      <th>1</th>\n",
       "      <td>2</td>\n",
       "      <td>8342.642141</td>\n",
       "    </tr>\n",
       "    <tr>\n",
       "      <th>2</th>\n",
       "      <td>3</td>\n",
       "      <td>6304.708231</td>\n",
       "    </tr>\n",
       "  </tbody>\n",
       "</table>\n",
       "</div>"
      ],
      "text/plain": [
       "   City_Tier          Rent\n",
       "0          1  12320.517019\n",
       "1          2   8342.642141\n",
       "2          3   6304.708231"
      ]
     },
     "execution_count": 69,
     "metadata": {},
     "output_type": "execute_result"
    }
   ],
   "source": [
    "city_rent_grp_df = df[['City_Tier', 'Rent']]\n",
    "city_rent_grp_df = city_rent_grp_df.groupby(['City_Tier'], as_index=False).mean()\n",
    "\n",
    "city_rent_grp_df"
   ]
  },
  {
   "cell_type": "markdown",
   "metadata": {},
   "source": [
    "##### 3. Spending Habit between Age_Group"
   ]
  },
  {
   "cell_type": "code",
   "execution_count": 35,
   "metadata": {},
   "outputs": [
    {
     "name": "stdout",
     "output_type": "stream",
     "text": [
      "2077.983321307548\n",
      "2094.2687945410844\n",
      "2080.8118629711553\n",
      "17931.52155119037\n",
      "18231.46017317046\n",
      "18259.57573480435\n"
     ]
    }
   ],
   "source": [
    "younger_df = df.loc[df['Age_Group']=='younger']\n",
    "middle_age_df = df.loc[df['Age_Group']=='middle-aged']\n",
    "senior_df = df.loc[df['Age_Group']=='senior']\n",
    "\n",
    "print(younger_df['Discretionary_Expense'].median())\n",
    "print(middle_age_df['Discretionary_Expense'].median())\n",
    "print(senior_df['Discretionary_Expense'].median())\n",
    "\n",
    "print(younger_df['Neccessary_Expense'].median())\n",
    "print(middle_age_df['Neccessary_Expense'].median())\n",
    "print(senior_df['Neccessary_Expense'].median())"
   ]
  },
  {
   "cell_type": "markdown",
   "metadata": {},
   "source": [
    "## 3. Model Development "
   ]
  },
  {
   "cell_type": "code",
   "execution_count": null,
   "metadata": {},
   "outputs": [],
   "source": []
  },
  {
   "cell_type": "markdown",
   "metadata": {},
   "source": [
    "## 4. Model Evaluation "
   ]
  }
 ],
 "metadata": {
  "kernelspec": {
   "display_name": "base",
   "language": "python",
   "name": "python3"
  },
  "language_info": {
   "codemirror_mode": {
    "name": "ipython",
    "version": 3
   },
   "file_extension": ".py",
   "mimetype": "text/x-python",
   "name": "python",
   "nbconvert_exporter": "python",
   "pygments_lexer": "ipython3",
   "version": "3.12.4"
  }
 },
 "nbformat": 4,
 "nbformat_minor": 2
}
